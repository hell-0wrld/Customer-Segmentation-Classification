{
 "cells": [
  {
   "cell_type": "code",
   "execution_count": 2,
   "id": "3142ac0c-0d2c-4839-ae96-5534ef5785d5",
   "metadata": {},
   "outputs": [],
   "source": [
    "import pandas as pd\n",
    "import numpy as np\n",
    "import matplotlib.pyplot as plt\n",
    "import seaborn as sns\n",
    "import gc\n",
    "\n",
    "# 그래프 기본 설정\n",
    "plt.rcParams['font.family'] = 'Malgun Gothic'\n",
    "# plt.rcParams['font.family'] = 'AppleGothic'\n",
    "plt.rcParams['figure.figsize'] = 12, 6\n",
    "plt.rcParams['font.size'] = 14\n",
    "plt.rcParams['axes.unicode_minus'] = False"
   ]
  },
  {
   "cell_type": "markdown",
   "id": "456fd26f-08ef-4293-8a78-323b78df099a",
   "metadata": {},
   "source": [
    "# 1. 회원정보"
   ]
  },
  {
   "cell_type": "code",
   "execution_count": 5,
   "id": "f4c80aba-233c-49a9-aa27-e9432cfdadfb",
   "metadata": {},
   "outputs": [
    {
     "name": "stdout",
     "output_type": "stream",
     "text": [
      "<class 'pandas.core.frame.DataFrame'>\n",
      "RangeIndex: 400000 entries, 0 to 399999\n",
      "Data columns (total 78 columns):\n",
      " #   Column              Non-Null Count   Dtype  \n",
      "---  ------              --------------   -----  \n",
      " 0   기준년월                400000 non-null  int64  \n",
      " 1   ID                  400000 non-null  object \n",
      " 2   남녀구분코드              400000 non-null  int64  \n",
      " 3   연령                  400000 non-null  object \n",
      " 4   Segment             400000 non-null  object \n",
      " 5   회원여부_이용가능           400000 non-null  int64  \n",
      " 6   회원여부_이용가능_CA        400000 non-null  int64  \n",
      " 7   회원여부_이용가능_카드론       400000 non-null  int64  \n",
      " 8   소지여부_신용             400000 non-null  int64  \n",
      " 9   소지카드수_유효_신용         400000 non-null  int64  \n",
      " 10  소지카드수_이용가능_신용       400000 non-null  int64  \n",
      " 11  입회일자_신용             400000 non-null  int64  \n",
      " 12  입회경과개월수_신용          400000 non-null  int64  \n",
      " 13  회원여부_연체             400000 non-null  int64  \n",
      " 14  이용거절여부_카드론          400000 non-null  int64  \n",
      " 15  동의여부_한도증액안내         400000 non-null  int64  \n",
      " 16  수신거부여부_TM           400000 non-null  int64  \n",
      " 17  수신거부여부_DM           400000 non-null  int64  \n",
      " 18  수신거부여부_메일           400000 non-null  int64  \n",
      " 19  수신거부여부_SMS          400000 non-null  int64  \n",
      " 20  가입통신회사코드            332636 non-null  object \n",
      " 21  탈회횟수_누적             400000 non-null  int64  \n",
      " 22  최종탈회후경과월            400000 non-null  int64  \n",
      " 23  탈회횟수_발급6개월이내        400000 non-null  int64  \n",
      " 24  탈회횟수_발급1년이내         400000 non-null  int64  \n",
      " 25  거주시도명               400000 non-null  object \n",
      " 26  직장시도명               359193 non-null  object \n",
      " 27  마케팅동의여부             400000 non-null  int64  \n",
      " 28  유효카드수_신용체크          400000 non-null  int64  \n",
      " 29  유효카드수_신용            400000 non-null  int64  \n",
      " 30  유효카드수_신용_가족         400000 non-null  int64  \n",
      " 31  유효카드수_체크            400000 non-null  int64  \n",
      " 32  유효카드수_체크_가족         400000 non-null  int64  \n",
      " 33  이용가능카드수_신용체크        400000 non-null  int64  \n",
      " 34  이용가능카드수_신용          400000 non-null  int64  \n",
      " 35  이용가능카드수_신용_가족       400000 non-null  int64  \n",
      " 36  이용가능카드수_체크          400000 non-null  int64  \n",
      " 37  이용가능카드수_체크_가족       400000 non-null  int64  \n",
      " 38  이용카드수_신용체크          400000 non-null  int64  \n",
      " 39  이용카드수_신용            400000 non-null  int64  \n",
      " 40  이용카드수_신용_가족         400000 non-null  int64  \n",
      " 41  이용카드수_체크            400000 non-null  int64  \n",
      " 42  이용카드수_체크_가족         400000 non-null  int64  \n",
      " 43  이용금액_R3M_신용체크       400000 non-null  int64  \n",
      " 44  이용금액_R3M_신용         400000 non-null  int64  \n",
      " 45  이용금액_R3M_신용_가족      400000 non-null  int64  \n",
      " 46  이용금액_R3M_체크         400000 non-null  int64  \n",
      " 47  이용금액_R3M_체크_가족      400000 non-null  int64  \n",
      " 48  _1순위카드이용금액          400000 non-null  int64  \n",
      " 49  _1순위카드이용건수          400000 non-null  int64  \n",
      " 50  _1순위신용체크구분          397853 non-null  object \n",
      " 51  _2순위카드이용금액          400000 non-null  int64  \n",
      " 52  _2순위카드이용건수          400000 non-null  int64  \n",
      " 53  _2순위신용체크구분          242134 non-null  object \n",
      " 54  최종유효년월_신용_이용가능      367172 non-null  float64\n",
      " 55  최종유효년월_신용_이용        320682 non-null  float64\n",
      " 56  최종카드발급일자            396993 non-null  float64\n",
      " 57  보유여부_해외겸용_본인        400000 non-null  int64  \n",
      " 58  이용가능여부_해외겸용_본인      400000 non-null  int64  \n",
      " 59  이용여부_3M_해외겸용_본인     400000 non-null  int64  \n",
      " 60  보유여부_해외겸용_신용_본인     400000 non-null  int64  \n",
      " 61  이용가능여부_해외겸용_신용_본인   400000 non-null  int64  \n",
      " 62  이용여부_3M_해외겸용_신용_본인  400000 non-null  int64  \n",
      " 63  연회비발생카드수_B0M        400000 non-null  object \n",
      " 64  연회비할인카드수_B0M        400000 non-null  int64  \n",
      " 65  기본연회비_B0M           400000 non-null  int64  \n",
      " 66  제휴연회비_B0M           400000 non-null  int64  \n",
      " 67  할인금액_기본연회비_B0M      400000 non-null  int64  \n",
      " 68  할인금액_제휴연회비_B0M      400000 non-null  int64  \n",
      " 69  청구금액_기본연회비_B0M      400000 non-null  int64  \n",
      " 70  청구금액_제휴연회비_B0M      400000 non-null  int64  \n",
      " 71  상품관련면제카드수_B0M       400000 non-null  object \n",
      " 72  임직원면제카드수_B0M        400000 non-null  object \n",
      " 73  우수회원면제카드수_B0M       400000 non-null  object \n",
      " 74  기타면제카드수_B0M         400000 non-null  object \n",
      " 75  카드신청건수              400000 non-null  int64  \n",
      " 76  Life_Stage          400000 non-null  object \n",
      " 77  최종카드발급경과월           400000 non-null  int64  \n",
      "dtypes: float64(3), int64(61), object(14)\n",
      "memory usage: 238.0+ MB\n"
     ]
    }
   ],
   "source": [
    "df1 = pd.read_parquet('open/train/1.회원정보/201807_train_회원정보.parquet')\n",
    "df1.info()"
   ]
  },
  {
   "cell_type": "code",
   "execution_count": 6,
   "id": "c7316631-0c26-4a04-bf0b-510116ddaeb4",
   "metadata": {},
   "outputs": [
    {
     "data": {
      "text/html": [
       "<div>\n",
       "<style scoped>\n",
       "    .dataframe tbody tr th:only-of-type {\n",
       "        vertical-align: middle;\n",
       "    }\n",
       "\n",
       "    .dataframe tbody tr th {\n",
       "        vertical-align: top;\n",
       "    }\n",
       "\n",
       "    .dataframe thead th {\n",
       "        text-align: right;\n",
       "    }\n",
       "</style>\n",
       "<table border=\"1\" class=\"dataframe\">\n",
       "  <thead>\n",
       "    <tr style=\"text-align: right;\">\n",
       "      <th></th>\n",
       "      <th>기준년월</th>\n",
       "      <th>ID</th>\n",
       "      <th>남녀구분코드</th>\n",
       "      <th>연령</th>\n",
       "      <th>Segment</th>\n",
       "      <th>회원여부_이용가능</th>\n",
       "      <th>회원여부_이용가능_CA</th>\n",
       "      <th>회원여부_이용가능_카드론</th>\n",
       "      <th>소지여부_신용</th>\n",
       "      <th>소지카드수_유효_신용</th>\n",
       "      <th>...</th>\n",
       "      <th>할인금액_제휴연회비_B0M</th>\n",
       "      <th>청구금액_기본연회비_B0M</th>\n",
       "      <th>청구금액_제휴연회비_B0M</th>\n",
       "      <th>상품관련면제카드수_B0M</th>\n",
       "      <th>임직원면제카드수_B0M</th>\n",
       "      <th>우수회원면제카드수_B0M</th>\n",
       "      <th>기타면제카드수_B0M</th>\n",
       "      <th>카드신청건수</th>\n",
       "      <th>Life_Stage</th>\n",
       "      <th>최종카드발급경과월</th>\n",
       "    </tr>\n",
       "  </thead>\n",
       "  <tbody>\n",
       "    <tr>\n",
       "      <th>0</th>\n",
       "      <td>201807</td>\n",
       "      <td>TRAIN_000000</td>\n",
       "      <td>2</td>\n",
       "      <td>40대</td>\n",
       "      <td>D</td>\n",
       "      <td>1</td>\n",
       "      <td>1</td>\n",
       "      <td>0</td>\n",
       "      <td>1</td>\n",
       "      <td>1</td>\n",
       "      <td>...</td>\n",
       "      <td>0</td>\n",
       "      <td>0</td>\n",
       "      <td>0</td>\n",
       "      <td>0개</td>\n",
       "      <td>0개</td>\n",
       "      <td>0개</td>\n",
       "      <td>0개</td>\n",
       "      <td>0</td>\n",
       "      <td>자녀성장(2)</td>\n",
       "      <td>22</td>\n",
       "    </tr>\n",
       "    <tr>\n",
       "      <th>1</th>\n",
       "      <td>201807</td>\n",
       "      <td>TRAIN_000001</td>\n",
       "      <td>1</td>\n",
       "      <td>30대</td>\n",
       "      <td>E</td>\n",
       "      <td>1</td>\n",
       "      <td>1</td>\n",
       "      <td>1</td>\n",
       "      <td>1</td>\n",
       "      <td>1</td>\n",
       "      <td>...</td>\n",
       "      <td>0</td>\n",
       "      <td>0</td>\n",
       "      <td>0</td>\n",
       "      <td>0개</td>\n",
       "      <td>0개</td>\n",
       "      <td>0개</td>\n",
       "      <td>0개</td>\n",
       "      <td>0</td>\n",
       "      <td>자녀성장(1)</td>\n",
       "      <td>18</td>\n",
       "    </tr>\n",
       "    <tr>\n",
       "      <th>2</th>\n",
       "      <td>201807</td>\n",
       "      <td>TRAIN_000002</td>\n",
       "      <td>1</td>\n",
       "      <td>30대</td>\n",
       "      <td>C</td>\n",
       "      <td>1</td>\n",
       "      <td>1</td>\n",
       "      <td>0</td>\n",
       "      <td>1</td>\n",
       "      <td>1</td>\n",
       "      <td>...</td>\n",
       "      <td>0</td>\n",
       "      <td>0</td>\n",
       "      <td>0</td>\n",
       "      <td>0개</td>\n",
       "      <td>0개</td>\n",
       "      <td>0개</td>\n",
       "      <td>0개</td>\n",
       "      <td>0</td>\n",
       "      <td>자녀출산기</td>\n",
       "      <td>20</td>\n",
       "    </tr>\n",
       "    <tr>\n",
       "      <th>3</th>\n",
       "      <td>201807</td>\n",
       "      <td>TRAIN_000003</td>\n",
       "      <td>2</td>\n",
       "      <td>40대</td>\n",
       "      <td>D</td>\n",
       "      <td>1</td>\n",
       "      <td>1</td>\n",
       "      <td>0</td>\n",
       "      <td>1</td>\n",
       "      <td>2</td>\n",
       "      <td>...</td>\n",
       "      <td>0</td>\n",
       "      <td>0</td>\n",
       "      <td>0</td>\n",
       "      <td>0개</td>\n",
       "      <td>0개</td>\n",
       "      <td>0개</td>\n",
       "      <td>0개</td>\n",
       "      <td>1</td>\n",
       "      <td>자녀성장(2)</td>\n",
       "      <td>17</td>\n",
       "    </tr>\n",
       "    <tr>\n",
       "      <th>4</th>\n",
       "      <td>201807</td>\n",
       "      <td>TRAIN_000004</td>\n",
       "      <td>2</td>\n",
       "      <td>40대</td>\n",
       "      <td>E</td>\n",
       "      <td>1</td>\n",
       "      <td>1</td>\n",
       "      <td>1</td>\n",
       "      <td>1</td>\n",
       "      <td>1</td>\n",
       "      <td>...</td>\n",
       "      <td>0</td>\n",
       "      <td>0</td>\n",
       "      <td>0</td>\n",
       "      <td>0개</td>\n",
       "      <td>0개</td>\n",
       "      <td>0개</td>\n",
       "      <td>0개</td>\n",
       "      <td>1</td>\n",
       "      <td>자녀성장(1)</td>\n",
       "      <td>15</td>\n",
       "    </tr>\n",
       "  </tbody>\n",
       "</table>\n",
       "<p>5 rows × 78 columns</p>\n",
       "</div>"
      ],
      "text/plain": [
       "     기준년월            ID  남녀구분코드   연령 Segment  회원여부_이용가능  회원여부_이용가능_CA  \\\n",
       "0  201807  TRAIN_000000       2  40대       D          1             1   \n",
       "1  201807  TRAIN_000001       1  30대       E          1             1   \n",
       "2  201807  TRAIN_000002       1  30대       C          1             1   \n",
       "3  201807  TRAIN_000003       2  40대       D          1             1   \n",
       "4  201807  TRAIN_000004       2  40대       E          1             1   \n",
       "\n",
       "   회원여부_이용가능_카드론  소지여부_신용  소지카드수_유효_신용  ...  할인금액_제휴연회비_B0M  청구금액_기본연회비_B0M  \\\n",
       "0              0        1            1  ...               0               0   \n",
       "1              1        1            1  ...               0               0   \n",
       "2              0        1            1  ...               0               0   \n",
       "3              0        1            2  ...               0               0   \n",
       "4              1        1            1  ...               0               0   \n",
       "\n",
       "   청구금액_제휴연회비_B0M  상품관련면제카드수_B0M  임직원면제카드수_B0M  우수회원면제카드수_B0M  기타면제카드수_B0M  \\\n",
       "0               0             0개            0개             0개           0개   \n",
       "1               0             0개            0개             0개           0개   \n",
       "2               0             0개            0개             0개           0개   \n",
       "3               0             0개            0개             0개           0개   \n",
       "4               0             0개            0개             0개           0개   \n",
       "\n",
       "   카드신청건수  Life_Stage  최종카드발급경과월  \n",
       "0       0     자녀성장(2)         22  \n",
       "1       0     자녀성장(1)         18  \n",
       "2       0       자녀출산기         20  \n",
       "3       1     자녀성장(2)         17  \n",
       "4       1     자녀성장(1)         15  \n",
       "\n",
       "[5 rows x 78 columns]"
      ]
     },
     "execution_count": 6,
     "metadata": {},
     "output_type": "execute_result"
    }
   ],
   "source": [
    "df1.head()"
   ]
  },
  {
   "cell_type": "markdown",
   "id": "08c4b5aa-27f7-40d0-8e3f-24fa0643db31",
   "metadata": {},
   "source": [
    "### 기준년월"
   ]
  },
  {
   "cell_type": "code",
   "execution_count": 7,
   "id": "77aa5729-cc19-40cd-be51-2802ac4f3347",
   "metadata": {},
   "outputs": [
    {
     "data": {
      "text/plain": [
       "array([201807], dtype=int64)"
      ]
     },
     "execution_count": 7,
     "metadata": {},
     "output_type": "execute_result"
    }
   ],
   "source": [
    "# 기준년월\n",
    "df1['기준년월'].unique()"
   ]
  },
  {
   "cell_type": "markdown",
   "id": "2a7243f8-b2dc-4bc0-908c-ace163a9262d",
   "metadata": {},
   "source": [
    "### ID"
   ]
  },
  {
   "cell_type": "code",
   "execution_count": 8,
   "id": "1511329d-4aed-4243-8210-674ab40e29c6",
   "metadata": {},
   "outputs": [
    {
     "name": "stdout",
     "output_type": "stream",
     "text": [
      "400000\n",
      "0\n"
     ]
    },
    {
     "data": {
      "text/plain": [
       "dtype('O')"
      ]
     },
     "execution_count": 8,
     "metadata": {},
     "output_type": "execute_result"
    }
   ],
   "source": [
    "# ID\n",
    "print(df1['ID'].nunique())\n",
    "print(df1['ID'].isna().sum())\n",
    "df1['ID'].dtype"
   ]
  },
  {
   "cell_type": "markdown",
   "id": "49838410-7fec-46e7-9021-e812015a7778",
   "metadata": {},
   "source": [
    "### 남녀구분코드"
   ]
  },
  {
   "cell_type": "code",
   "execution_count": 9,
   "id": "9c9eb6dd-dbdc-44b9-94c8-acaa967ff3ae",
   "metadata": {},
   "outputs": [
    {
     "name": "stdout",
     "output_type": "stream",
     "text": [
      "[2 1]\n",
      "0\n"
     ]
    },
    {
     "data": {
      "text/plain": [
       "남녀구분코드\n",
       "1    209218\n",
       "2    190782\n",
       "Name: count, dtype: int64"
      ]
     },
     "execution_count": 9,
     "metadata": {},
     "output_type": "execute_result"
    }
   ],
   "source": [
    "# 남녀 구분코드\n",
    "print(df1['남녀구분코드'].unique())\n",
    "print(df1['남녀구분코드'].isna().sum())\n",
    "df1['남녀구분코드'].value_counts()"
   ]
  },
  {
   "cell_type": "markdown",
   "id": "5d745daf-f33a-421f-ba57-9defdd36c54b",
   "metadata": {},
   "source": [
    "### 연령"
   ]
  },
  {
   "cell_type": "code",
   "execution_count": 10,
   "id": "25480458-0733-4aca-90c7-b78723f19fab",
   "metadata": {},
   "outputs": [
    {
     "name": "stdout",
     "output_type": "stream",
     "text": [
      "['40대' '30대' '20대' '60대' '50대' '70대이상']\n",
      "0\n"
     ]
    },
    {
     "data": {
      "text/plain": [
       "연령\n",
       "40대      122191\n",
       "30대       98691\n",
       "50대       91057\n",
       "60대       41165\n",
       "20대       31980\n",
       "70대이상     14916\n",
       "Name: count, dtype: int64"
      ]
     },
     "execution_count": 10,
     "metadata": {},
     "output_type": "execute_result"
    }
   ],
   "source": [
    "# 연령\n",
    "print(df1['연령'].unique())\n",
    "print(df1['연령'].isna().sum())\n",
    "df1['연령'].value_counts()"
   ]
  },
  {
   "cell_type": "code",
   "execution_count": 11,
   "id": "6b334273-9d78-4232-8c15-79e78329cee0",
   "metadata": {},
   "outputs": [
    {
     "data": {
      "image/png": "[encoded data removed]",
      "text/plain": [
       "<Figure size 1000x600 with 1 Axes>"
      ]
     },
     "metadata": {},
     "output_type": "display_data"
    }
   ],
   "source": [
    "# 연령대 그래프\n",
    "plt.figure(figsize=(10, 6))\n",
    "sns.countplot(data=df1, x='연령', order=['20대', '30대', '40대', '50대', '60대', '70대이상'])\n",
    "plt.title('연령대별 고객 분포')\n",
    "plt.xlabel('연령대')\n",
    "plt.ylabel('고객 수')\n",
    "plt.show()"
   ]
  },
  {
   "cell_type": "markdown",
   "id": "c900664b-ac3d-4cc4-93ba-0525b1b0acf1",
   "metadata": {},
   "source": [
    "### Segment"
   ]
  },
  {
   "cell_type": "code",
   "execution_count": 12,
   "id": "df231ad4-505b-4a56-8098-8f18630474e7",
   "metadata": {},
   "outputs": [
    {
     "name": "stdout",
     "output_type": "stream",
     "text": [
      "['D' 'E' 'C' 'A' 'B']\n",
      "0\n"
     ]
    },
    {
     "data": {
      "text/plain": [
       "Segment\n",
       "E    320342\n",
       "D     58207\n",
       "C     21265\n",
       "A       162\n",
       "B        24\n",
       "Name: count, dtype: int64"
      ]
     },
     "execution_count": 12,
     "metadata": {},
     "output_type": "execute_result"
    }
   ],
   "source": [
    "# Segment\n",
    "print(df1['Segment'].unique())\n",
    "print(df1['Segment'].isna().sum())\n",
    "df1['Segment'].value_counts()"
   ]
  },
  {
   "cell_type": "code",
   "execution_count": 13,
   "id": "add744c2-d427-45a0-8cd0-faba4510aafc",
   "metadata": {},
   "outputs": [
    {
     "data": {
      "image/png": "[encoded data removed]",
      "text/plain": [
       "<Figure size 1000x600 with 1 Axes>"
      ]
     },
     "metadata": {},
     "output_type": "display_data"
    }
   ],
   "source": [
    "# Segment 그래프\n",
    "plt.figure(figsize=(10, 6))\n",
    "sns.countplot(data=df1, x='Segment', order=['A', 'B', 'C', 'D', 'E'])\n",
    "plt.title('Segment 분포')\n",
    "plt.xlabel('Segment')\n",
    "plt.ylabel('고객 수')\n",
    "plt.show()"
   ]
  },
  {
   "cell_type": "code",
   "execution_count": 14,
   "id": "ea3b67d3-2f6c-4978-871e-08696a8d1849",
   "metadata": {},
   "outputs": [
    {
     "data": {
      "text/plain": [
       "0.800855"
      ]
     },
     "execution_count": 14,
     "metadata": {},
     "output_type": "execute_result"
    }
   ],
   "source": [
    "# E의 비율\n",
    "a1 = (df1['Segment']=='E').sum()\n",
    "a1\n",
    "a1/len(df1['Segment'])"
   ]
  },
  {
   "cell_type": "markdown",
   "id": "61a8f5fb-4a89-4d35-a3c7-6374d9fab5dd",
   "metadata": {},
   "source": [
    "### 회원여부_이용가능"
   ]
  },
  {
   "cell_type": "code",
   "execution_count": 17,
   "id": "efafb424-f595-45be-b784-64cc95437442",
   "metadata": {},
   "outputs": [
    {
     "name": "stdout",
     "output_type": "stream",
     "text": [
      "요소들 : [1 0]\n",
      "결측치 : 0\n"
     ]
    },
    {
     "data": {
      "text/plain": [
       "회원여부_이용가능\n",
       "1    382820\n",
       "0     17180\n",
       "Name: count, dtype: int64"
      ]
     },
     "execution_count": 17,
     "metadata": {},
     "output_type": "execute_result"
    }
   ],
   "source": [
    "# Segment\n",
    "print(f\"요소들 : {df1['회원여부_이용가능'].unique()}\")\n",
    "print(f\"결측치 : {df1['회원여부_이용가능'].isna().sum()}\")\n",
    "df1['회원여부_이용가능'].value_counts()"
   ]
  },
  {
   "cell_type": "code",
   "execution_count": 18,
   "id": "5764d1b8-cb42-4b26-97d9-db2212e8a5b1",
   "metadata": {},
   "outputs": [
    {
     "data": {
      "image/png": "[encoded data removed]",
      "text/plain": [
       "<Figure size 300x700 with 1 Axes>"
      ]
     },
     "metadata": {},
     "output_type": "display_data"
    }
   ],
   "source": [
    "# 회원여부_이용가능 그래프\n",
    "plt.figure(figsize=(3, 7))\n",
    "sns.countplot(data=df1, x='회원여부_이용가능')\n",
    "plt.title('회원여부_이용가능')\n",
    "plt.xlabel('회원여부_이용가능')\n",
    "plt.ylabel('고객 수')\n",
    "plt.show()"
   ]
  },
  {
   "cell_type": "markdown",
   "id": "0558df63-0e3c-4af3-8e29-259d387b9ec8",
   "metadata": {},
   "source": [
    "### 회원여부_이용가능_CA "
   ]
  },
  {
   "cell_type": "code",
   "execution_count": 27,
   "id": "d6c18089-d5f4-4891-8ba2-fde4e297b956",
   "metadata": {},
   "outputs": [
    {
     "name": "stdout",
     "output_type": "stream",
     "text": [
      "요소들 : [1 0]\n",
      "결측치 : 0\n"
     ]
    },
    {
     "data": {
      "text/plain": [
       "회원여부_이용가능_CA\n",
       "1    355056\n",
       "0     44944\n",
       "Name: count, dtype: int64"
      ]
     },
     "execution_count": 27,
     "metadata": {},
     "output_type": "execute_result"
    }
   ],
   "source": [
    "# 회원여부_이용가능_CA\n",
    "print(f\"요소들 : {df1['회원여부_이용가능_CA'].unique()}\")\n",
    "print(f\"결측치 : {df1['회원여부_이용가능_CA'].isna().sum()}\")\n",
    "df1['회원여부_이용가능_CA'].value_counts()"
   ]
  },
  {
   "cell_type": "markdown",
   "id": "21606445-f1cf-4f26-a28a-97028ca71d5f",
   "metadata": {},
   "source": [
    "### 회원여부_이용가능_카드론"
   ]
  },
  {
   "cell_type": "code",
   "execution_count": 33,
   "id": "3253e9ed-9ae3-4f57-b64b-237b8dd88d16",
   "metadata": {},
   "outputs": [
    {
     "name": "stdout",
     "output_type": "stream",
     "text": [
      "요소들 : [0 1]\n",
      "결측치 : 0\n"
     ]
    },
    {
     "data": {
      "text/plain": [
       "회원여부_이용가능_카드론\n",
       "1    245008\n",
       "0    154992\n",
       "Name: count, dtype: int64"
      ]
     },
     "execution_count": 33,
     "metadata": {},
     "output_type": "execute_result"
    }
   ],
   "source": [
    "# 회원여부_이용가능_카드론\n",
    "print(f\"요소들 : {df1['회원여부_이용가능_카드론'].unique()}\")\n",
    "print(f\"결측치 : {df1['회원여부_이용가능_카드론'].isna().sum()}\")\n",
    "df1['회원여부_이용가능_카드론'].value_counts()"
   ]
  },
  {
   "cell_type": "code",
   "execution_count": 25,
   "id": "e94ecff9-5971-4867-bd0a-75d42cbb6daa",
   "metadata": {},
   "outputs": [
    {
     "data": {
      "image/png": "[encoded data removed]",
      "text/plain": [
       "<Figure size 300x700 with 1 Axes>"
      ]
     },
     "metadata": {},
     "output_type": "display_data"
    }
   ],
   "source": [
    "# 회원여부_이용가능_카드론 그래프\n",
    "plt.figure(figsize=(3, 7))\n",
    "sns.countplot(data=df1, x='회원여부_이용가능_카드론')\n",
    "plt.title('회원여부_이용가능_카드론')\n",
    "plt.xlabel('이용가능_카드론')\n",
    "plt.ylabel('고객 수')\n",
    "plt.show()"
   ]
  },
  {
   "cell_type": "markdown",
   "id": "5c62dff2-a0a6-44ea-a8fd-7239f91149f7",
   "metadata": {},
   "source": [
    "### 소지여부_신용"
   ]
  },
  {
   "cell_type": "code",
   "execution_count": 34,
   "id": "0abce59c-c341-4870-9518-79e2507e0dd3",
   "metadata": {},
   "outputs": [
    {
     "name": "stdout",
     "output_type": "stream",
     "text": [
      "요소들 : [1 0]\n",
      "결측치 : 0\n"
     ]
    },
    {
     "data": {
      "text/plain": [
       "소지여부_신용\n",
       "1    397001\n",
       "0      2999\n",
       "Name: count, dtype: int64"
      ]
     },
     "execution_count": 34,
     "metadata": {},
     "output_type": "execute_result"
    }
   ],
   "source": [
    "# 소지여부_신용\n",
    "print(f\"요소들 : {df1['소지여부_신용'].unique()}\")\n",
    "print(f\"결측치 : {df1['소지여부_신용'].isna().sum()}\")\n",
    "df1['소지여부_신용'].value_counts()"
   ]
  },
  {
   "cell_type": "markdown",
   "id": "059d630d-1026-4aa1-b5de-37f6050d3cea",
   "metadata": {},
   "source": [
    "### 소지카드수_유효_신용"
   ]
  },
  {
   "cell_type": "code",
   "execution_count": 38,
   "id": "747c3d33-ce4b-482b-a384-4bf2019037a6",
   "metadata": {},
   "outputs": [
    {
     "name": "stdout",
     "output_type": "stream",
     "text": [
      "요소들 : [1 2 3 0 4]\n",
      "결측치 : 0\n"
     ]
    },
    {
     "data": {
      "text/plain": [
       "소지카드수_유효_신용\n",
       "1    312368\n",
       "2     65421\n",
       "3     19252\n",
       "0      2954\n",
       "4         5\n",
       "Name: count, dtype: int64"
      ]
     },
     "execution_count": 38,
     "metadata": {},
     "output_type": "execute_result"
    }
   ],
   "source": [
    "# 소지카드수_유효_신용\n",
    "print(f\"요소들 : {df1['소지카드수_유효_신용'].unique()}\")\n",
    "print(f\"결측치 : {df1['소지카드수_유효_신용'].isna().sum()}\")\n",
    "df1['소지카드수_유효_신용'].value_counts()"
   ]
  },
  {
   "cell_type": "code",
   "execution_count": 39,
   "id": "876e4e3f-ccf5-4c1e-a170-9b67d8a07096",
   "metadata": {},
   "outputs": [
    {
     "data": {
      "image/png": "[encoded data removed]",
      "text/plain": [
       "<Figure size 300x700 with 1 Axes>"
      ]
     },
     "metadata": {},
     "output_type": "display_data"
    }
   ],
   "source": [
    "# 소지카드수_유효_신용 그래프\n",
    "plt.figure(figsize=(3, 7))\n",
    "sns.countplot(data=df1, x='소지카드수_유효_신용')\n",
    "plt.title('소지카드수_유효_신용')\n",
    "plt.xlabel('소지카드수_유효_신용')\n",
    "plt.ylabel('고객 수')\n",
    "plt.show()"
   ]
  },
  {
   "cell_type": "markdown",
   "id": "4e6561f4-ea9f-4318-988a-c28eb5e1ac7a",
   "metadata": {},
   "source": [
    "### 소지카드수_이용가능_신용"
   ]
  },
  {
   "cell_type": "code",
   "execution_count": null,
   "id": "a622f10c-4542-414a-953c-120510ec8335",
   "metadata": {},
   "outputs": [],
   "source": []
  },
  {
   "cell_type": "code",
   "execution_count": null,
   "id": "cf0d019f-3ac4-4236-8180-0a2af8476b19",
   "metadata": {},
   "outputs": [],
   "source": []
  },
  {
   "cell_type": "code",
   "execution_count": null,
   "id": "0533380d-da8f-40e8-9bef-a252778ebe22",
   "metadata": {},
   "outputs": [],
   "source": []
  },
  {
   "cell_type": "code",
   "execution_count": null,
   "id": "e125bc6b-ad98-4078-bed0-cd3f800a03d9",
   "metadata": {},
   "outputs": [],
   "source": []
  },
  {
   "cell_type": "code",
   "execution_count": null,
   "id": "92a1121e-72dc-432e-9cf3-b91987d89597",
   "metadata": {},
   "outputs": [],
   "source": []
  },
  {
   "attachments": {},
   "cell_type": "markdown",
   "id": "ac375c9e-855f-41c2-be63-ee334e3bb60a",
   "metadata": {},
   "source": [
    "### 기준년월\n",
    " - yyyymm로 이루어진 정수형 데이터\n",
    " - 데이터프레임 병합시 필요\n",
    "\n",
    "### ID\n",
    "- 0부터 1씩 증가하는 아이디 값. 굳이 필요한가?\n",
    "- 삭제 예정? Train만 남기기?\n",
    "\n",
    "### 남녀구분코드\n",
    "- 남/녀가 2/1로 구분되어있는 정수형 데이터\n",
    "- 어느쪽이 남잔지 여잔지 모른다\n",
    "- 아마도 주민등록 뒷자리 1번이긴 할듯\n",
    "- 비율은 거의 반반\n",
    "\n",
    "### 연령\n",
    "- '20대' ~ '70대이상' 범주형 변수\n",
    "- 40대가 최빈\n",
    "\n",
    "### Segment\n",
    "- 예측해야하는 값.(test에는 없다)\n",
    "- 'A', 'B', 'C', 'D', 'E' 범주형\n",
    "- E가 최빈값(80%정도)\n",
    "\n",
    "### 회원여부_이용가능\n",
    "- 이용가능 여부가 0, 1로 나눠진 범주형\n",
    "- 아마 1이 이용 가능인듯?\n",
    "- 0은 Black List\n",
    "\n",
    "### 회원여부_이용가능_CA \n",
    "- 회원여부_이용가능과 동일\n",
    "    + 현금 서비스 이용가능자 수\n",
    "\n",
    "### 회원여부_이용가능_카드론\n",
    "- 회원여부_이용가능과 동일\n",
    "    + 카드론 이용가능자 수\n",
    " \n",
    "### 소지여부_신용\n",
    "- 신용카드 소지자\n",
    "\n",
    "### 소지카드수_유효_신용\n",
    "- 카드 보유 수\n",
    "- 1이 최빈 값\n",
    "\n"
   ]
  },
  {
   "cell_type": "code",
   "execution_count": null,
   "id": "eaa4eaa3-3027-412e-8bff-9a1e05bc7d67",
   "metadata": {},
   "outputs": [],
   "source": []
  }
 ],
 "metadata": {
  "kernelspec": {
   "display_name": "Python 3 (ipykernel)",
   "language": "python",
   "name": "python3"
  },
  "language_info": {
   "codemirror_mode": {
    "name": "ipython",
    "version": 3
   },
   "file_extension": ".py",
   "mimetype": "text/x-python",
   "name": "python",
   "nbconvert_exporter": "python",
   "pygments_lexer": "ipython3",
   "version": "3.10.18"
  }
 },
 "nbformat": 4,
 "nbformat_minor": 5
}
