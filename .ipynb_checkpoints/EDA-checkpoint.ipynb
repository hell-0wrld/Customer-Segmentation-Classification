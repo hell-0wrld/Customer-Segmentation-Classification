{
 "cells": [
  {
   "cell_type": "code",
   "execution_count": 3,
   "id": "3142ac0c-0d2c-4839-ae96-5534ef5785d5",
   "metadata": {},
   "outputs": [],
   "source": [
    "import pandas as pd\n",
    "import numpy as np\n",
    "import matplotlib.pyplot as plt\n",
    "import seaborn as sns\n",
    "import gc\n",
    "\n",
    "# 그래프 기본 설정\n",
    "plt.rcParams['font.family'] = 'Malgun Gothic'\n",
    "# plt.rcParams['font.family'] = 'AppleGothic'\n",
    "plt.rcParams['figure.figsize'] = 12, 6\n",
    "plt.rcParams['font.size'] = 14\n",
    "plt.rcParams['axes.unicode_minus'] = False"
   ]
  },
  {
   "cell_type": "markdown",
   "id": "456fd26f-08ef-4293-8a78-323b78df099a",
   "metadata": {},
   "source": [
    "# 1. 회원정보"
   ]
  },
  {
   "cell_type": "code",
   "execution_count": 4,
   "id": "f4c80aba-233c-49a9-aa27-e9432cfdadfb",
   "metadata": {},
   "outputs": [
    {
     "name": "stdout",
     "output_type": "stream",
     "text": [
      "<class 'pandas.core.frame.DataFrame'>\n",
      "RangeIndex: 400000 entries, 0 to 399999\n",
      "Data columns (total 78 columns):\n",
      " #   Column              Non-Null Count   Dtype  \n",
      "---  ------              --------------   -----  \n",
      " 0   기준년월                400000 non-null  int64  \n",
      " 1   ID                  400000 non-null  object \n",
      " 2   남녀구분코드              400000 non-null  int64  \n",
      " 3   연령                  400000 non-null  object \n",
      " 4   Segment             400000 non-null  object \n",
      " 5   회원여부_이용가능           400000 non-null  int64  \n",
      " 6   회원여부_이용가능_CA        400000 non-null  int64  \n",
      " 7   회원여부_이용가능_카드론       400000 non-null  int64  \n",
      " 8   소지여부_신용             400000 non-null  int64  \n",
      " 9   소지카드수_유효_신용         400000 non-null  int64  \n",
      " 10  소지카드수_이용가능_신용       400000 non-null  int64  \n",
      " 11  입회일자_신용             400000 non-null  int64  \n",
      " 12  입회경과개월수_신용          400000 non-null  int64  \n",
      " 13  회원여부_연체             400000 non-null  int64  \n",
      " 14  이용거절여부_카드론          400000 non-null  int64  \n",
      " 15  동의여부_한도증액안내         400000 non-null  int64  \n",
      " 16  수신거부여부_TM           400000 non-null  int64  \n",
      " 17  수신거부여부_DM           400000 non-null  int64  \n",
      " 18  수신거부여부_메일           400000 non-null  int64  \n",
      " 19  수신거부여부_SMS          400000 non-null  int64  \n",
      " 20  가입통신회사코드            332636 non-null  object \n",
      " 21  탈회횟수_누적             400000 non-null  int64  \n",
      " 22  최종탈회후경과월            400000 non-null  int64  \n",
      " 23  탈회횟수_발급6개월이내        400000 non-null  int64  \n",
      " 24  탈회횟수_발급1년이내         400000 non-null  int64  \n",
      " 25  거주시도명               400000 non-null  object \n",
      " 26  직장시도명               359193 non-null  object \n",
      " 27  마케팅동의여부             400000 non-null  int64  \n",
      " 28  유효카드수_신용체크          400000 non-null  int64  \n",
      " 29  유효카드수_신용            400000 non-null  int64  \n",
      " 30  유효카드수_신용_가족         400000 non-null  int64  \n",
      " 31  유효카드수_체크            400000 non-null  int64  \n",
      " 32  유효카드수_체크_가족         400000 non-null  int64  \n",
      " 33  이용가능카드수_신용체크        400000 non-null  int64  \n",
      " 34  이용가능카드수_신용          400000 non-null  int64  \n",
      " 35  이용가능카드수_신용_가족       400000 non-null  int64  \n",
      " 36  이용가능카드수_체크          400000 non-null  int64  \n",
      " 37  이용가능카드수_체크_가족       400000 non-null  int64  \n",
      " 38  이용카드수_신용체크          400000 non-null  int64  \n",
      " 39  이용카드수_신용            400000 non-null  int64  \n",
      " 40  이용카드수_신용_가족         400000 non-null  int64  \n",
      " 41  이용카드수_체크            400000 non-null  int64  \n",
      " 42  이용카드수_체크_가족         400000 non-null  int64  \n",
      " 43  이용금액_R3M_신용체크       400000 non-null  int64  \n",
      " 44  이용금액_R3M_신용         400000 non-null  int64  \n",
      " 45  이용금액_R3M_신용_가족      400000 non-null  int64  \n",
      " 46  이용금액_R3M_체크         400000 non-null  int64  \n",
      " 47  이용금액_R3M_체크_가족      400000 non-null  int64  \n",
      " 48  _1순위카드이용금액          400000 non-null  int64  \n",
      " 49  _1순위카드이용건수          400000 non-null  int64  \n",
      " 50  _1순위신용체크구분          397853 non-null  object \n",
      " 51  _2순위카드이용금액          400000 non-null  int64  \n",
      " 52  _2순위카드이용건수          400000 non-null  int64  \n",
      " 53  _2순위신용체크구분          242134 non-null  object \n",
      " 54  최종유효년월_신용_이용가능      367172 non-null  float64\n",
      " 55  최종유효년월_신용_이용        320682 non-null  float64\n",
      " 56  최종카드발급일자            396993 non-null  float64\n",
      " 57  보유여부_해외겸용_본인        400000 non-null  int64  \n",
      " 58  이용가능여부_해외겸용_본인      400000 non-null  int64  \n",
      " 59  이용여부_3M_해외겸용_본인     400000 non-null  int64  \n",
      " 60  보유여부_해외겸용_신용_본인     400000 non-null  int64  \n",
      " 61  이용가능여부_해외겸용_신용_본인   400000 non-null  int64  \n",
      " 62  이용여부_3M_해외겸용_신용_본인  400000 non-null  int64  \n",
      " 63  연회비발생카드수_B0M        400000 non-null  object \n",
      " 64  연회비할인카드수_B0M        400000 non-null  int64  \n",
      " 65  기본연회비_B0M           400000 non-null  int64  \n",
      " 66  제휴연회비_B0M           400000 non-null  int64  \n",
      " 67  할인금액_기본연회비_B0M      400000 non-null  int64  \n",
      " 68  할인금액_제휴연회비_B0M      400000 non-null  int64  \n",
      " 69  청구금액_기본연회비_B0M      400000 non-null  int64  \n",
      " 70  청구금액_제휴연회비_B0M      400000 non-null  int64  \n",
      " 71  상품관련면제카드수_B0M       400000 non-null  object \n",
      " 72  임직원면제카드수_B0M        400000 non-null  object \n",
      " 73  우수회원면제카드수_B0M       400000 non-null  object \n",
      " 74  기타면제카드수_B0M         400000 non-null  object \n",
      " 75  카드신청건수              400000 non-null  int64  \n",
      " 76  Life_Stage          400000 non-null  object \n",
      " 77  최종카드발급경과월           400000 non-null  int64  \n",
      "dtypes: float64(3), int64(61), object(14)\n",
      "memory usage: 238.0+ MB\n"
     ]
    }
   ],
   "source": [
    "df1 = pd.read_parquet('open/train/1.회원정보/201807_train_회원정보.parquet')\n",
    "df1.info()"
   ]
  },
  {
   "cell_type": "code",
   "execution_count": 5,
   "id": "c7316631-0c26-4a04-bf0b-510116ddaeb4",
   "metadata": {},
   "outputs": [
    {
     "data": {
      "text/html": [
       "<div>\n",
       "<style scoped>\n",
       "    .dataframe tbody tr th:only-of-type {\n",
       "        vertical-align: middle;\n",
       "    }\n",
       "\n",
       "    .dataframe tbody tr th {\n",
       "        vertical-align: top;\n",
       "    }\n",
       "\n",
       "    .dataframe thead th {\n",
       "        text-align: right;\n",
       "    }\n",
       "</style>\n",
       "<table border=\"1\" class=\"dataframe\">\n",
       "  <thead>\n",
       "    <tr style=\"text-align: right;\">\n",
       "      <th></th>\n",
       "      <th>기준년월</th>\n",
       "      <th>ID</th>\n",
       "      <th>남녀구분코드</th>\n",
       "      <th>연령</th>\n",
       "      <th>Segment</th>\n",
       "      <th>회원여부_이용가능</th>\n",
       "      <th>회원여부_이용가능_CA</th>\n",
       "      <th>회원여부_이용가능_카드론</th>\n",
       "      <th>소지여부_신용</th>\n",
       "      <th>소지카드수_유효_신용</th>\n",
       "      <th>...</th>\n",
       "      <th>할인금액_제휴연회비_B0M</th>\n",
       "      <th>청구금액_기본연회비_B0M</th>\n",
       "      <th>청구금액_제휴연회비_B0M</th>\n",
       "      <th>상품관련면제카드수_B0M</th>\n",
       "      <th>임직원면제카드수_B0M</th>\n",
       "      <th>우수회원면제카드수_B0M</th>\n",
       "      <th>기타면제카드수_B0M</th>\n",
       "      <th>카드신청건수</th>\n",
       "      <th>Life_Stage</th>\n",
       "      <th>최종카드발급경과월</th>\n",
       "    </tr>\n",
       "  </thead>\n",
       "  <tbody>\n",
       "    <tr>\n",
       "      <th>0</th>\n",
       "      <td>201807</td>\n",
       "      <td>TRAIN_000000</td>\n",
       "      <td>2</td>\n",
       "      <td>40대</td>\n",
       "      <td>D</td>\n",
       "      <td>1</td>\n",
       "      <td>1</td>\n",
       "      <td>0</td>\n",
       "      <td>1</td>\n",
       "      <td>1</td>\n",
       "      <td>...</td>\n",
       "      <td>0</td>\n",
       "      <td>0</td>\n",
       "      <td>0</td>\n",
       "      <td>0개</td>\n",
       "      <td>0개</td>\n",
       "      <td>0개</td>\n",
       "      <td>0개</td>\n",
       "      <td>0</td>\n",
       "      <td>자녀성장(2)</td>\n",
       "      <td>22</td>\n",
       "    </tr>\n",
       "    <tr>\n",
       "      <th>1</th>\n",
       "      <td>201807</td>\n",
       "      <td>TRAIN_000001</td>\n",
       "      <td>1</td>\n",
       "      <td>30대</td>\n",
       "      <td>E</td>\n",
       "      <td>1</td>\n",
       "      <td>1</td>\n",
       "      <td>1</td>\n",
       "      <td>1</td>\n",
       "      <td>1</td>\n",
       "      <td>...</td>\n",
       "      <td>0</td>\n",
       "      <td>0</td>\n",
       "      <td>0</td>\n",
       "      <td>0개</td>\n",
       "      <td>0개</td>\n",
       "      <td>0개</td>\n",
       "      <td>0개</td>\n",
       "      <td>0</td>\n",
       "      <td>자녀성장(1)</td>\n",
       "      <td>18</td>\n",
       "    </tr>\n",
       "    <tr>\n",
       "      <th>2</th>\n",
       "      <td>201807</td>\n",
       "      <td>TRAIN_000002</td>\n",
       "      <td>1</td>\n",
       "      <td>30대</td>\n",
       "      <td>C</td>\n",
       "      <td>1</td>\n",
       "      <td>1</td>\n",
       "      <td>0</td>\n",
       "      <td>1</td>\n",
       "      <td>1</td>\n",
       "      <td>...</td>\n",
       "      <td>0</td>\n",
       "      <td>0</td>\n",
       "      <td>0</td>\n",
       "      <td>0개</td>\n",
       "      <td>0개</td>\n",
       "      <td>0개</td>\n",
       "      <td>0개</td>\n",
       "      <td>0</td>\n",
       "      <td>자녀출산기</td>\n",
       "      <td>20</td>\n",
       "    </tr>\n",
       "    <tr>\n",
       "      <th>3</th>\n",
       "      <td>201807</td>\n",
       "      <td>TRAIN_000003</td>\n",
       "      <td>2</td>\n",
       "      <td>40대</td>\n",
       "      <td>D</td>\n",
       "      <td>1</td>\n",
       "      <td>1</td>\n",
       "      <td>0</td>\n",
       "      <td>1</td>\n",
       "      <td>2</td>\n",
       "      <td>...</td>\n",
       "      <td>0</td>\n",
       "      <td>0</td>\n",
       "      <td>0</td>\n",
       "      <td>0개</td>\n",
       "      <td>0개</td>\n",
       "      <td>0개</td>\n",
       "      <td>0개</td>\n",
       "      <td>1</td>\n",
       "      <td>자녀성장(2)</td>\n",
       "      <td>17</td>\n",
       "    </tr>\n",
       "    <tr>\n",
       "      <th>4</th>\n",
       "      <td>201807</td>\n",
       "      <td>TRAIN_000004</td>\n",
       "      <td>2</td>\n",
       "      <td>40대</td>\n",
       "      <td>E</td>\n",
       "      <td>1</td>\n",
       "      <td>1</td>\n",
       "      <td>1</td>\n",
       "      <td>1</td>\n",
       "      <td>1</td>\n",
       "      <td>...</td>\n",
       "      <td>0</td>\n",
       "      <td>0</td>\n",
       "      <td>0</td>\n",
       "      <td>0개</td>\n",
       "      <td>0개</td>\n",
       "      <td>0개</td>\n",
       "      <td>0개</td>\n",
       "      <td>1</td>\n",
       "      <td>자녀성장(1)</td>\n",
       "      <td>15</td>\n",
       "    </tr>\n",
       "  </tbody>\n",
       "</table>\n",
       "<p>5 rows × 78 columns</p>\n",
       "</div>"
      ],
      "text/plain": [
       "     기준년월            ID  남녀구분코드   연령 Segment  회원여부_이용가능  회원여부_이용가능_CA  \\\n",
       "0  201807  TRAIN_000000       2  40대       D          1             1   \n",
       "1  201807  TRAIN_000001       1  30대       E          1             1   \n",
       "2  201807  TRAIN_000002       1  30대       C          1             1   \n",
       "3  201807  TRAIN_000003       2  40대       D          1             1   \n",
       "4  201807  TRAIN_000004       2  40대       E          1             1   \n",
       "\n",
       "   회원여부_이용가능_카드론  소지여부_신용  소지카드수_유효_신용  ...  할인금액_제휴연회비_B0M  청구금액_기본연회비_B0M  \\\n",
       "0              0        1            1  ...               0               0   \n",
       "1              1        1            1  ...               0               0   \n",
       "2              0        1            1  ...               0               0   \n",
       "3              0        1            2  ...               0               0   \n",
       "4              1        1            1  ...               0               0   \n",
       "\n",
       "   청구금액_제휴연회비_B0M  상품관련면제카드수_B0M  임직원면제카드수_B0M  우수회원면제카드수_B0M  기타면제카드수_B0M  \\\n",
       "0               0             0개            0개             0개           0개   \n",
       "1               0             0개            0개             0개           0개   \n",
       "2               0             0개            0개             0개           0개   \n",
       "3               0             0개            0개             0개           0개   \n",
       "4               0             0개            0개             0개           0개   \n",
       "\n",
       "   카드신청건수  Life_Stage  최종카드발급경과월  \n",
       "0       0     자녀성장(2)         22  \n",
       "1       0     자녀성장(1)         18  \n",
       "2       0       자녀출산기         20  \n",
       "3       1     자녀성장(2)         17  \n",
       "4       1     자녀성장(1)         15  \n",
       "\n",
       "[5 rows x 78 columns]"
      ]
     },
     "execution_count": 5,
     "metadata": {},
     "output_type": "execute_result"
    }
   ],
   "source": [
    "df1.head()"
   ]
  },
  {
   "cell_type": "markdown",
   "id": "08c4b5aa-27f7-40d0-8e3f-24fa0643db31",
   "metadata": {},
   "source": [
    "### 기준년월"
   ]
  },
  {
   "cell_type": "code",
   "execution_count": 6,
   "id": "77aa5729-cc19-40cd-be51-2802ac4f3347",
   "metadata": {},
   "outputs": [
    {
     "data": {
      "text/plain": [
       "array([201807], dtype=int64)"
      ]
     },
     "execution_count": 6,
     "metadata": {},
     "output_type": "execute_result"
    }
   ],
   "source": [
    "# 기준년월\n",
    "df1['기준년월'].unique()"
   ]
  },
  {
   "cell_type": "markdown",
   "id": "2a7243f8-b2dc-4bc0-908c-ace163a9262d",
   "metadata": {},
   "source": [
    "### ID"
   ]
  },
  {
   "cell_type": "code",
   "execution_count": 7,
   "id": "1511329d-4aed-4243-8210-674ab40e29c6",
   "metadata": {},
   "outputs": [
    {
     "name": "stdout",
     "output_type": "stream",
     "text": [
      "400000\n",
      "0\n"
     ]
    },
    {
     "data": {
      "text/plain": [
       "dtype('O')"
      ]
     },
     "execution_count": 7,
     "metadata": {},
     "output_type": "execute_result"
    }
   ],
   "source": [
    "# ID\n",
    "print(df1['ID'].nunique())\n",
    "print(df1['ID'].isna().sum())\n",
    "df1['ID'].dtype"
   ]
  },
  {
   "cell_type": "markdown",
   "id": "49838410-7fec-46e7-9021-e812015a7778",
   "metadata": {},
   "source": [
    "### 남녀구분코드"
   ]
  },
  {
   "cell_type": "code",
   "execution_count": 8,
   "id": "9c9eb6dd-dbdc-44b9-94c8-acaa967ff3ae",
   "metadata": {},
   "outputs": [
    {
     "name": "stdout",
     "output_type": "stream",
     "text": [
      "[2 1]\n",
      "0\n"
     ]
    },
    {
     "data": {
      "text/plain": [
       "남녀구분코드\n",
       "1    209218\n",
       "2    190782\n",
       "Name: count, dtype: int64"
      ]
     },
     "execution_count": 8,
     "metadata": {},
     "output_type": "execute_result"
    }
   ],
   "source": [
    "# 남녀 구분코드\n",
    "print(df1['남녀구분코드'].unique())\n",
    "print(df1['남녀구분코드'].isna().sum())\n",
    "df1['남녀구분코드'].value_counts()"
   ]
  },
  {
   "cell_type": "markdown",
   "id": "5d745daf-f33a-421f-ba57-9defdd36c54b",
   "metadata": {},
   "source": [
    "### 연령"
   ]
  },
  {
   "cell_type": "code",
   "execution_count": 9,
   "id": "25480458-0733-4aca-90c7-b78723f19fab",
   "metadata": {},
   "outputs": [
    {
     "name": "stdout",
     "output_type": "stream",
     "text": [
      "['40대' '30대' '20대' '60대' '50대' '70대이상']\n",
      "0\n"
     ]
    },
    {
     "data": {
      "text/plain": [
       "연령\n",
       "40대      122191\n",
       "30대       98691\n",
       "50대       91057\n",
       "60대       41165\n",
       "20대       31980\n",
       "70대이상     14916\n",
       "Name: count, dtype: int64"
      ]
     },
     "execution_count": 9,
     "metadata": {},
     "output_type": "execute_result"
    }
   ],
   "source": [
    "# 연령\n",
    "print(df1['연령'].unique())\n",
    "print(df1['연령'].isna().sum())\n",
    "df1['연령'].value_counts()"
   ]
  },
  {
   "cell_type": "code",
   "execution_count": 10,
   "id": "6b334273-9d78-4232-8c15-79e78329cee0",
   "metadata": {},
   "outputs": [
    {
     "data": {
      "image/png": "[encoded data removed]",
      "text/plain": [
       "<Figure size 1000x600 with 1 Axes>"
      ]
     },
     "metadata": {},
     "output_type": "display_data"
    }
   ],
   "source": [
    "# 연령대 그래프\n",
    "plt.figure(figsize=(10, 6))\n",
    "sns.countplot(data=df1, x='연령', order=['20대', '30대', '40대', '50대', '60대', '70대이상'])\n",
    "plt.title('연령대별 고객 분포')\n",
    "plt.xlabel('연령대')\n",
    "plt.ylabel('고객 수')\n",
    "plt.show()"
   ]
  },
  {
   "cell_type": "markdown",
   "id": "c900664b-ac3d-4cc4-93ba-0525b1b0acf1",
   "metadata": {},
   "source": [
    "### Segment"
   ]
  },
  {
   "cell_type": "code",
   "execution_count": 11,
   "id": "df231ad4-505b-4a56-8098-8f18630474e7",
   "metadata": {},
   "outputs": [
    {
     "name": "stdout",
     "output_type": "stream",
     "text": [
      "['D' 'E' 'C' 'A' 'B']\n",
      "0\n"
     ]
    },
    {
     "data": {
      "text/plain": [
       "Segment\n",
       "E    320342\n",
       "D     58207\n",
       "C     21265\n",
       "A       162\n",
       "B        24\n",
       "Name: count, dtype: int64"
      ]
     },
     "execution_count": 11,
     "metadata": {},
     "output_type": "execute_result"
    }
   ],
   "source": [
    "# Segment\n",
    "print(df1['Segment'].unique())\n",
    "print(df1['Segment'].isna().sum())\n",
    "df1['Segment'].value_counts()"
   ]
  },
  {
   "cell_type": "code",
   "execution_count": 12,
   "id": "add744c2-d427-45a0-8cd0-faba4510aafc",
   "metadata": {},
   "outputs": [
    {
     "data": {
      "image/png": "[encoded data removed]",
      "text/plain": [
       "<Figure size 1000x600 with 1 Axes>"
      ]
     },
     "metadata": {},
     "output_type": "display_data"
    }
   ],
   "source": [
    "# Segment 그래프\n",
    "plt.figure(figsize=(10, 6))\n",
    "sns.countplot(data=df1, x='Segment', order=['A', 'B', 'C', 'D', 'E'])\n",
    "plt.title('Segment 분포')\n",
    "plt.xlabel('Segment')\n",
    "plt.ylabel('고객 수')\n",
    "plt.show()"
   ]
  },
  {
   "cell_type": "code",
   "execution_count": 13,
   "id": "ea3b67d3-2f6c-4978-871e-08696a8d1849",
   "metadata": {},
   "outputs": [
    {
     "data": {
      "text/plain": [
       "0.800855"
      ]
     },
     "execution_count": 13,
     "metadata": {},
     "output_type": "execute_result"
    }
   ],
   "source": [
    "# E의 비율\n",
    "a1 = (df1['Segment']=='E').sum()\n",
    "a1\n",
    "a1/len(df1['Segment'])"
   ]
  },
  {
   "cell_type": "markdown",
   "id": "61a8f5fb-4a89-4d35-a3c7-6374d9fab5dd",
   "metadata": {},
   "source": [
    "### 회원여부_이용가능"
   ]
  },
  {
   "cell_type": "code",
   "execution_count": 14,
   "id": "efafb424-f595-45be-b784-64cc95437442",
   "metadata": {},
   "outputs": [
    {
     "name": "stdout",
     "output_type": "stream",
     "text": [
      "요소들 : [1 0]\n",
      "결측치 : 0\n"
     ]
    },
    {
     "data": {
      "text/plain": [
       "회원여부_이용가능\n",
       "1    382820\n",
       "0     17180\n",
       "Name: count, dtype: int64"
      ]
     },
     "execution_count": 14,
     "metadata": {},
     "output_type": "execute_result"
    }
   ],
   "source": [
    "# Segment\n",
    "print(f\"요소들 : {df1['회원여부_이용가능'].unique()}\")\n",
    "print(f\"결측치 : {df1['회원여부_이용가능'].isna().sum()}\")\n",
    "df1['회원여부_이용가능'].value_counts()"
   ]
  },
  {
   "cell_type": "code",
   "execution_count": 15,
   "id": "5764d1b8-cb42-4b26-97d9-db2212e8a5b1",
   "metadata": {},
   "outputs": [
    {
     "data": {
      "image/png": "[encoded data removed]",
      "text/plain": [
       "<Figure size 300x700 with 1 Axes>"
      ]
     },
     "metadata": {},
     "output_type": "display_data"
    }
   ],
   "source": [
    "# 회원여부_이용가능 그래프\n",
    "plt.figure(figsize=(3, 7))\n",
    "sns.countplot(data=df1, x='회원여부_이용가능')\n",
    "plt.title('회원여부_이용가능')\n",
    "plt.xlabel('회원여부_이용가능')\n",
    "plt.ylabel('고객 수')\n",
    "plt.show()"
   ]
  },
  {
   "cell_type": "code",
   "execution_count": 28,
   "id": "a622f10c-4542-414a-953c-120510ec8335",
   "metadata": {},
   "outputs": [
    {
     "data": {
      "text/plain": [
       "Segment  Life_Stage\n",
       "A        자녀성장(2)           74\n",
       "         자녀성장(1)           52\n",
       "         자녀독립기             14\n",
       "         노년생활              12\n",
       "         자녀출산기              8\n",
       "         가족구축기              1\n",
       "         독신                 1\n",
       "B        자녀성장(1)           12\n",
       "         자녀성장(2)            7\n",
       "         자녀출산기              2\n",
       "         가족구축기              1\n",
       "         독신                 1\n",
       "         자녀독립기              1\n",
       "C        자녀성장(1)         8748\n",
       "         자녀성장(2)         5579\n",
       "         자녀출산기           2300\n",
       "         가족구축기           1644\n",
       "         자녀독립기           1416\n",
       "         노년생활            1327\n",
       "         독신               251\n",
       "D        자녀성장(1)        21531\n",
       "         자녀성장(2)        13335\n",
       "         자녀출산기           7216\n",
       "         가족구축기           7015\n",
       "         노년생활            3670\n",
       "         자녀독립기           3649\n",
       "         독신              1791\n",
       "E        자녀성장(1)       101831\n",
       "         자녀성장(2)        79707\n",
       "         노년생활           33909\n",
       "         가족구축기          31788\n",
       "         자녀출산기          31500\n",
       "         자녀독립기          27887\n",
       "         독신             13720\n",
       "Name: count, dtype: int64"
      ]
     },
     "execution_count": 28,
     "metadata": {},
     "output_type": "execute_result"
    }
   ],
   "source": [
    "grouped = df1.groupby('Segment')['Life_Stage'].value_counts()\n",
    "grouped"
   ]
  },
  {
   "cell_type": "code",
   "execution_count": 30,
   "id": "cf0d019f-3ac4-4236-8180-0a2af8476b19",
   "metadata": {},
   "outputs": [
    {
     "data": {
      "text/plain": [
       "Segment  연령   \n",
       "A        50대         63\n",
       "         40대         60\n",
       "         60대         18\n",
       "         30대         13\n",
       "         70대이상        7\n",
       "         20대          1\n",
       "B        40대          8\n",
       "         50대          8\n",
       "         30대          7\n",
       "         20대          1\n",
       "C        40대       8065\n",
       "         30대       5376\n",
       "         50대       4947\n",
       "         60대       1648\n",
       "         20대        689\n",
       "         70대이상      540\n",
       "D        40대      19300\n",
       "         30대      17043\n",
       "         50대      11804\n",
       "         60대       4451\n",
       "         20대       4331\n",
       "         70대이상     1278\n",
       "E        40대      94758\n",
       "         30대      76252\n",
       "         50대      74235\n",
       "         60대      35048\n",
       "         20대      26958\n",
       "         70대이상    13091\n",
       "Name: count, dtype: int64"
      ]
     },
     "execution_count": 30,
     "metadata": {},
     "output_type": "execute_result"
    }
   ],
   "source": [
    "grouped_Age = df1.groupby('Segment')['연령'].value_counts()\n",
    "grouped_Age"
   ]
  },
  {
   "cell_type": "code",
   "execution_count": 31,
   "id": "0533380d-da8f-40e8-9bef-a252778ebe22",
   "metadata": {},
   "outputs": [
    {
     "data": {
      "text/plain": [
       "Segment  회원여부_이용가능\n",
       "A        1               162\n",
       "B        1                24\n",
       "C        1             21114\n",
       "         0               151\n",
       "D        1             57642\n",
       "         0               565\n",
       "E        1            303878\n",
       "         0             16464\n",
       "Name: count, dtype: int64"
      ]
     },
     "execution_count": 31,
     "metadata": {},
     "output_type": "execute_result"
    }
   ],
   "source": [
    "grouped_Black = df1.groupby('Segment')['회원여부_이용가능'].value_counts()\n",
    "grouped_Black"
   ]
  },
  {
   "cell_type": "code",
   "execution_count": 33,
   "id": "e125bc6b-ad98-4078-bed0-cd3f800a03d9",
   "metadata": {},
   "outputs": [
    {
     "data": {
      "text/plain": [
       "Segment  소지카드수_이용가능_신용\n",
       "A        2                    66\n",
       "         3                    55\n",
       "         1                    41\n",
       "B        1                    11\n",
       "         2                     7\n",
       "         3                     6\n",
       "C        1                  9421\n",
       "         2                  6696\n",
       "         3                  4719\n",
       "         0                   429\n",
       "D        1                 34070\n",
       "         2                 16261\n",
       "         3                  6244\n",
       "         0                  1632\n",
       "E        1                246341\n",
       "         2                 38570\n",
       "         0                 29766\n",
       "         3                  5665\n",
       "Name: count, dtype: int64"
      ]
     },
     "execution_count": 33,
     "metadata": {},
     "output_type": "execute_result"
    }
   ],
   "source": [
    "grouped_Credit = df1.groupby('Segment')['소지카드수_이용가능_신용'].value_counts()\n",
    "grouped_Credit"
   ]
  },
  {
   "cell_type": "code",
   "execution_count": 73,
   "id": "72fa570c-17b3-4b2b-8787-a6d1ee235bbf",
   "metadata": {},
   "outputs": [
    {
     "name": "stdout",
     "output_type": "stream",
     "text": [
      "Segment A avg : 188.46153846153845\n",
      "Segment B avg : 129.8095238095238\n",
      "Segment C avg : 160.51572327044025\n",
      "Segment D avg : 161.0\n",
      "Segment E avg : 164.02769230769232\n"
     ]
    },
    {
     "data": {
      "image/png": "[encoded data removed]",
      "text/plain": [
       "<Figure size 1200x600 with 1 Axes>"
      ]
     },
     "metadata": {},
     "output_type": "display_data"
    }
   ],
   "source": [
    "grouped_months = df1.groupby('Segment')['입회경과개월수_신용'].value_counts()\n",
    "print(f\"Segment A avg : {sum(grouped_months['A'].index) / len(grouped_months['A'].index)}\")\n",
    "print(f\"Segment B avg : {sum(grouped_months['B'].index) / len(grouped_months['B'].index)}\")\n",
    "print(f\"Segment C avg : {sum(grouped_months['C'].index) / len(grouped_months['C'].index)}\")\n",
    "print(f\"Segment D avg : {sum(grouped_months['D'].index) / len(grouped_months['D'].index)}\")\n",
    "print(f\"Segment E avg : {sum(grouped_months['E'].index) / len(grouped_months['E'].index)}\")\n",
    "\n",
    "a1 = grouped_months['E'].index\n",
    "sns.boxenplot(a1)\n",
    "plt.show()"
   ]
  },
  {
   "cell_type": "code",
   "execution_count": 34,
   "id": "92a1121e-72dc-432e-9cf3-b91987d89597",
   "metadata": {},
   "outputs": [
    {
     "data": {
      "text/plain": [
       "Segment  회원여부_연체\n",
       "A        0             159\n",
       "         1               3\n",
       "B        0              23\n",
       "         1               1\n",
       "C        0           20650\n",
       "         1             615\n",
       "D        0           56430\n",
       "         1            1777\n",
       "E        0          314425\n",
       "         1            5917\n",
       "Name: count, dtype: int64"
      ]
     },
     "execution_count": 34,
     "metadata": {},
     "output_type": "execute_result"
    }
   ],
   "source": [
    "grouped_overdue = df1.groupby('Segment')['회원여부_연체'].value_counts()\n",
    "grouped_overdue"
   ]
  },
  {
   "cell_type": "code",
   "execution_count": 35,
   "id": "231d7a64-5d56-451d-b954-e42f8393c468",
   "metadata": {},
   "outputs": [
    {
     "data": {
      "text/plain": [
       "Segment  탈회횟수_누적\n",
       "A        0             112\n",
       "         1              45\n",
       "         2               5\n",
       "B        0              14\n",
       "         1               9\n",
       "         2               1\n",
       "C        0           13743\n",
       "         1            6480\n",
       "         2            1042\n",
       "D        0           37022\n",
       "         1           17752\n",
       "         2            3433\n",
       "E        0          184018\n",
       "         1          102108\n",
       "         2           34216\n",
       "Name: count, dtype: int64"
      ]
     },
     "execution_count": 35,
     "metadata": {},
     "output_type": "execute_result"
    }
   ],
   "source": [
    "grouped_deact = df1.groupby('Segment')['탈회횟수_누적'].value_counts()\n",
    "grouped_deact\n",
    "\n",
    "# 의미 없는듯.."
   ]
  },
  {
   "cell_type": "code",
   "execution_count": 74,
   "id": "eaa4eaa3-3027-412e-8bff-9a1e05bc7d67",
   "metadata": {},
   "outputs": [
    {
     "data": {
      "text/plain": [
       "Segment  유효카드수_신용체크\n",
       "A        4                 38\n",
       "         2                 36\n",
       "         1                 33\n",
       "         3                 25\n",
       "         5                 20\n",
       "         7                  6\n",
       "         6                  4\n",
       "B        4                  9\n",
       "         1                  6\n",
       "         2                  3\n",
       "         3                  3\n",
       "         5                  2\n",
       "         7                  1\n",
       "C        2               4640\n",
       "         4               4208\n",
       "         3               4176\n",
       "         1               3697\n",
       "         5               2567\n",
       "         6               1218\n",
       "         7                685\n",
       "         8                 74\n",
       "D        2              16450\n",
       "         3              13606\n",
       "         1              11686\n",
       "         4               9728\n",
       "         5               4615\n",
       "         6               1553\n",
       "         7                518\n",
       "         8                 50\n",
       "         0                  1\n",
       "E        1             141046\n",
       "         2             104030\n",
       "         3              47396\n",
       "         4              18995\n",
       "         5               5250\n",
       "         0               2147\n",
       "         6               1162\n",
       "         7                300\n",
       "         8                 16\n",
       "Name: count, dtype: int64"
      ]
     },
     "execution_count": 74,
     "metadata": {},
     "output_type": "execute_result"
    }
   ],
   "source": [
    "grouped_cards_cc = df1.groupby('Segment')['유효카드수_신용체크'].value_counts()\n",
    "grouped_cards_cc\n"
   ]
  },
  {
   "cell_type": "code",
   "execution_count": 75,
   "id": "337e0279-3b28-494a-bf40-a7573d0dc4ea",
   "metadata": {},
   "outputs": [
    {
     "data": {
      "text/plain": [
       "Segment  유효카드수_신용\n",
       "A        4               50\n",
       "         2               43\n",
       "         1               39\n",
       "         3               24\n",
       "         5                6\n",
       "B        1               11\n",
       "         2                6\n",
       "         4                6\n",
       "         3                1\n",
       "C        1             7348\n",
       "         2             5485\n",
       "         4             4259\n",
       "         3             3445\n",
       "         5              722\n",
       "         0                6\n",
       "D        1            24692\n",
       "         2            18288\n",
       "         3             8380\n",
       "         4             5874\n",
       "         5              920\n",
       "         0               53\n",
       "E        1           219440\n",
       "         2            78354\n",
       "         3            13865\n",
       "         4             5415\n",
       "         0             3010\n",
       "         5              258\n",
       "Name: count, dtype: int64"
      ]
     },
     "execution_count": 75,
     "metadata": {},
     "output_type": "execute_result"
    }
   ],
   "source": [
    "grouped_cards_credit = df1.groupby('Segment')['유효카드수_신용'].value_counts()\n",
    "grouped_cards_credit\n"
   ]
  },
  {
   "cell_type": "code",
   "execution_count": 76,
   "id": "23e864ea-3356-4941-9370-ae93d1718435",
   "metadata": {},
   "outputs": [
    {
     "data": {
      "text/plain": [
       "Segment  유효카드수_체크\n",
       "A        0              116\n",
       "         1               31\n",
       "         3               10\n",
       "         2                5\n",
       "B        0               12\n",
       "         1                4\n",
       "         2                4\n",
       "         3                4\n",
       "C        0            10008\n",
       "         1             6093\n",
       "         2             3017\n",
       "         3             2147\n",
       "D        0            28124\n",
       "         1            18115\n",
       "         2             7788\n",
       "         3             4180\n",
       "E        0           200881\n",
       "         1            85782\n",
       "         2            24788\n",
       "         3             8891\n",
       "Name: count, dtype: int64"
      ]
     },
     "execution_count": 76,
     "metadata": {},
     "output_type": "execute_result"
    }
   ],
   "source": [
    "grouped_cards_check = df1.groupby('Segment')['유효카드수_체크'].value_counts()\n",
    "grouped_cards_check"
   ]
  },
  {
   "cell_type": "code",
   "execution_count": 78,
   "id": "b35b31a3-bb31-4b09-a5bc-77e9fd12b038",
   "metadata": {},
   "outputs": [
    {
     "data": {
      "text/plain": [
       "Segment  이용금액_R3M_신용체크\n",
       "A        0                1\n",
       "         3491             1\n",
       "         3692             1\n",
       "         10086            1\n",
       "         10190            1\n",
       "                         ..\n",
       "E        148261           1\n",
       "         148319           1\n",
       "         149022           1\n",
       "         180694           1\n",
       "         185055           1\n",
       "Name: count, Length: 114338, dtype: int64"
      ]
     },
     "execution_count": 78,
     "metadata": {},
     "output_type": "execute_result"
    }
   ],
   "source": [
    "grouped_cc_usage = df1.groupby('Segment')['이용금액_R3M_신용체크'].value_counts()\n",
    "grouped_cc_usage\n",
    "\n",
    "# 묶어야..."
   ]
  },
  {
   "cell_type": "code",
   "execution_count": 79,
   "id": "37c49f6a-fd73-4287-9b63-6c1f87cebfd3",
   "metadata": {},
   "outputs": [
    {
     "data": {
      "text/plain": [
       "Segment  이용금액_R3M_신용\n",
       "A        0              1\n",
       "         3491           1\n",
       "         3692           1\n",
       "         10086          1\n",
       "         10190          1\n",
       "                       ..\n",
       "E        139948         1\n",
       "         140739         1\n",
       "         142921         1\n",
       "         146474         1\n",
       "         148319         1\n",
       "Name: count, Length: 111856, dtype: int64"
      ]
     },
     "execution_count": 79,
     "metadata": {},
     "output_type": "execute_result"
    }
   ],
   "source": [
    "grouped_credit_usage = df1.groupby('Segment')['이용금액_R3M_신용'].value_counts()\n",
    "grouped_credit_usage"
   ]
  },
  {
   "cell_type": "code",
   "execution_count": 80,
   "id": "d7ed5a8b-3b4d-4683-aed9-c2db6b71473d",
   "metadata": {},
   "outputs": [
    {
     "data": {
      "text/plain": [
       "Segment  이용금액_R3M_체크\n",
       "A        0              148\n",
       "         990              1\n",
       "         1417             1\n",
       "         1595             1\n",
       "         1805             1\n",
       "                       ... \n",
       "E        99832            1\n",
       "         100497           1\n",
       "         106159           1\n",
       "         113228           1\n",
       "         118751           1\n",
       "Name: count, Length: 30878, dtype: int64"
      ]
     },
     "execution_count": 80,
     "metadata": {},
     "output_type": "execute_result"
    }
   ],
   "source": [
    "grouped_check_usage = df1.groupby('Segment')['이용금액_R3M_체크'].value_counts()\n",
    "grouped_check_usage\n"
   ]
  },
  {
   "cell_type": "code",
   "execution_count": null,
   "id": "c699d35b-5206-4552-8096-e727b600bbab",
   "metadata": {},
   "outputs": [],
   "source": []
  }
 ],
 "metadata": {
  "kernelspec": {
   "display_name": "Python 3 (ipykernel)",
   "language": "python",
   "name": "python3"
  },
  "language_info": {
   "codemirror_mode": {
    "name": "ipython",
    "version": 3
   },
   "file_extension": ".py",
   "mimetype": "text/x-python",
   "name": "python",
   "nbconvert_exporter": "python",
   "pygments_lexer": "ipython3",
   "version": "3.10.18"
  }
 },
 "nbformat": 4,
 "nbformat_minor": 5
}
